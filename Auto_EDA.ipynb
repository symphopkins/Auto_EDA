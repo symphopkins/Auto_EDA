{
 "cells": [
  {
   "cell_type": "markdown",
   "id": "537818bb",
   "metadata": {},
   "source": [
    "# DSCI 503 - Homework 05\n",
    "### Symphony Hopkins"
   ]
  },
  {
   "cell_type": "code",
   "execution_count": 1,
   "id": "fe22c4e5",
   "metadata": {},
   "outputs": [],
   "source": [
    "import numpy as np\n",
    "import pandas as pd\n",
    "import matplotlib.pyplot as plt"
   ]
  },
  {
   "cell_type": "markdown",
   "id": "7d6600ca",
   "metadata": {},
   "source": [
    "## Problem 1: Working with 2D Arrays"
   ]
  },
  {
   "cell_type": "code",
   "execution_count": 2,
   "id": "28158617",
   "metadata": {},
   "outputs": [
    {
     "name": "stdout",
     "output_type": "stream",
     "text": [
      "[[4.75 7.48 1.   3.72 2.32 1.83 2.68 4.11]\n",
      " [4.57 5.85 4.77 7.17 2.84 8.9  1.25 7.03]\n",
      " [4.76 6.03 2.26 2.78 8.21 9.71 3.82 7.23]\n",
      " [8.89 9.05 1.77 1.35 2.53 8.9  1.89 4.79]\n",
      " [9.62 5.8  7.23 3.84 7.18 8.51 1.16 7.75]]\n"
     ]
    }
   ],
   "source": [
    "np.random.seed(1)\n",
    "Z = np.random.uniform(low = 1, high = 10, size = (5,8))\n",
    "Z = np.round(Z, 2)\n",
    "print(Z)"
   ]
  },
  {
   "cell_type": "code",
   "execution_count": 3,
   "id": "0f1a2432",
   "metadata": {},
   "outputs": [
    {
     "name": "stdout",
     "output_type": "stream",
     "text": [
      "\n",
      "Row 3:    [4.76 6.03 2.26 2.78 8.21 9.71 3.82 7.23]\n",
      "Column 6: [1.83 8.9  9.71 8.9  8.51]\n"
     ]
    }
   ],
   "source": [
    "print(f'''\n",
    "Row 3:    {Z[2,:]}\n",
    "Column 6: {Z[:,5]}''')"
   ]
  },
  {
   "cell_type": "code",
   "execution_count": 4,
   "id": "46c95415",
   "metadata": {},
   "outputs": [
    {
     "name": "stdout",
     "output_type": "stream",
     "text": [
      "\n",
      "Row Sums:    [27.89 42.38 44.8  39.17 51.09]\n",
      "Column Sums: [32.59 34.21 17.03 18.86 23.08 37.85 10.8  30.91]\n",
      "Array Sum:   205.32999999999998\n",
      "\n"
     ]
    }
   ],
   "source": [
    "print(f'''\n",
    "Row Sums:    {np.sum(Z, axis = 1)}\n",
    "Column Sums: {np.sum(Z, axis = 0)}\n",
    "Array Sum:   {np.sum(Z)}\n",
    "''')"
   ]
  },
  {
   "cell_type": "markdown",
   "id": "5ec31d35",
   "metadata": {},
   "source": [
    "## Problem 2: Reshaping and Stacking Arrays"
   ]
  },
  {
   "cell_type": "code",
   "execution_count": 5,
   "id": "8f3f21b8",
   "metadata": {},
   "outputs": [
    {
     "name": "stdout",
     "output_type": "stream",
     "text": [
      "(1000, 4)\n"
     ]
    }
   ],
   "source": [
    "np.random.seed(167)\n",
    "\n",
    "x1 = np.random.normal(loc = 50, scale = 10, size = 1000)\n",
    "x2 = np.random.normal(loc = 20, scale = 5, size = 1000)\n",
    "x3 = np.random.normal(loc = 100, scale = 30, size = 1000)\n",
    "x4 = np.random.normal(loc = 10, scale = 2, size = 1000)\n",
    "\n",
    "x1 = x1.reshape(1000,1)\n",
    "x2 = x2.reshape(1000,1)\n",
    "x3 = x3.reshape(1000,1)\n",
    "x4 = x4.reshape(1000,1)\n",
    "\n",
    "X = np.hstack((x1, x2, x3, x4))\n",
    "\n",
    "X = np.round(X, 2)\n",
    "\n",
    "print(X.shape)"
   ]
  },
  {
   "cell_type": "code",
   "execution_count": 6,
   "id": "6696e390",
   "metadata": {},
   "outputs": [
    {
     "name": "stdout",
     "output_type": "stream",
     "text": [
      "[[ 37.08  16.71 138.06   8.89]\n",
      " [ 41.32  19.91  99.61   9.86]\n",
      " [ 63.15  14.43  70.08  11.6 ]\n",
      " [ 50.03  12.71  95.05   8.47]\n",
      " [ 55.05  24.4   62.16   9.49]\n",
      " [ 59.24  25.68  64.57  12.84]]\n"
     ]
    }
   ],
   "source": [
    "print(X[0:6,:])"
   ]
  },
  {
   "cell_type": "markdown",
   "id": "5d6566f2",
   "metadata": {},
   "source": [
    "## Problem 3: Standardization"
   ]
  },
  {
   "cell_type": "code",
   "execution_count": 7,
   "id": "3829ff5d",
   "metadata": {},
   "outputs": [
    {
     "name": "stdout",
     "output_type": "stream",
     "text": [
      "\n",
      "Column means:               [50.21 19.86 99.84 10.06]\n",
      "Column standard deviations: [ 9.69  5.08 30.88  2.03]\n",
      "\n"
     ]
    }
   ],
   "source": [
    "X_col_mean = np.mean(X, axis = 0)\n",
    "X_col_std = np.std(X, axis = 0)\n",
    "\n",
    "print(f'''\n",
    "Column means:               {np.round(X_col_mean, 2)}\n",
    "Column standard deviations: {np.round(X_col_std, 2)}\n",
    "''')\n"
   ]
  },
  {
   "cell_type": "code",
   "execution_count": 8,
   "id": "483613be",
   "metadata": {},
   "outputs": [
    {
     "name": "stdout",
     "output_type": "stream",
     "text": [
      "\n",
      "Column means:               [ 0. -0. -0. -0.]\n",
      "Column standard deviations: [1. 1. 1. 1.]\n",
      "\n"
     ]
    }
   ],
   "source": [
    "W = (X - X_col_mean) / X_col_std\n",
    "\n",
    "W_col_mean = np.mean(W, axis = 0)\n",
    "W_col_std = np.std(W, axis = 0)\n",
    "\n",
    "print(f'''\n",
    "Column means:               {np.round(W_col_mean, 2)}\n",
    "Column standard deviations: {np.round(W_col_std, 2)}\n",
    "''')"
   ]
  },
  {
   "cell_type": "markdown",
   "id": "73c718c2",
   "metadata": {},
   "source": [
    "## Problem 4: Load Auto MPG Dataset"
   ]
  },
  {
   "cell_type": "code",
   "execution_count": 9,
   "id": "8933a051",
   "metadata": {},
   "outputs": [
    {
     "data": {
      "text/html": [
       "<div>\n",
       "<style scoped>\n",
       "    .dataframe tbody tr th:only-of-type {\n",
       "        vertical-align: middle;\n",
       "    }\n",
       "\n",
       "    .dataframe tbody tr th {\n",
       "        vertical-align: top;\n",
       "    }\n",
       "\n",
       "    .dataframe thead th {\n",
       "        text-align: right;\n",
       "    }\n",
       "</style>\n",
       "<table border=\"1\" class=\"dataframe\">\n",
       "  <thead>\n",
       "    <tr style=\"text-align: right;\">\n",
       "      <th></th>\n",
       "      <th>mpg</th>\n",
       "      <th>cyl</th>\n",
       "      <th>wt</th>\n",
       "      <th>region</th>\n",
       "      <th>model</th>\n",
       "    </tr>\n",
       "  </thead>\n",
       "  <tbody>\n",
       "    <tr>\n",
       "      <th>0</th>\n",
       "      <td>27.2</td>\n",
       "      <td>4</td>\n",
       "      <td>3190</td>\n",
       "      <td>eur</td>\n",
       "      <td>peugeot 504</td>\n",
       "    </tr>\n",
       "    <tr>\n",
       "      <th>1</th>\n",
       "      <td>32.8</td>\n",
       "      <td>4</td>\n",
       "      <td>1985</td>\n",
       "      <td>asia</td>\n",
       "      <td>mazda glc deluxe</td>\n",
       "    </tr>\n",
       "    <tr>\n",
       "      <th>2</th>\n",
       "      <td>18.1</td>\n",
       "      <td>6</td>\n",
       "      <td>3410</td>\n",
       "      <td>usa</td>\n",
       "      <td>amc concord d/l</td>\n",
       "    </tr>\n",
       "    <tr>\n",
       "      <th>3</th>\n",
       "      <td>17.5</td>\n",
       "      <td>8</td>\n",
       "      <td>4080</td>\n",
       "      <td>usa</td>\n",
       "      <td>dodge magnum xe</td>\n",
       "    </tr>\n",
       "    <tr>\n",
       "      <th>4</th>\n",
       "      <td>25.4</td>\n",
       "      <td>5</td>\n",
       "      <td>3530</td>\n",
       "      <td>eur</td>\n",
       "      <td>mercedes benz 300d</td>\n",
       "    </tr>\n",
       "    <tr>\n",
       "      <th>5</th>\n",
       "      <td>31.0</td>\n",
       "      <td>4</td>\n",
       "      <td>1773</td>\n",
       "      <td>asia</td>\n",
       "      <td>toyota corolla 1200</td>\n",
       "    </tr>\n",
       "    <tr>\n",
       "      <th>6</th>\n",
       "      <td>27.4</td>\n",
       "      <td>4</td>\n",
       "      <td>2670</td>\n",
       "      <td>usa</td>\n",
       "      <td>amc spirit dl</td>\n",
       "    </tr>\n",
       "    <tr>\n",
       "      <th>7</th>\n",
       "      <td>39.1</td>\n",
       "      <td>4</td>\n",
       "      <td>1755</td>\n",
       "      <td>asia</td>\n",
       "      <td>toyota starlet</td>\n",
       "    </tr>\n",
       "    <tr>\n",
       "      <th>8</th>\n",
       "      <td>34.3</td>\n",
       "      <td>4</td>\n",
       "      <td>2188</td>\n",
       "      <td>eur</td>\n",
       "      <td>audi 4000</td>\n",
       "    </tr>\n",
       "    <tr>\n",
       "      <th>9</th>\n",
       "      <td>30.0</td>\n",
       "      <td>4</td>\n",
       "      <td>2155</td>\n",
       "      <td>usa</td>\n",
       "      <td>buick opel isuzu deluxe</td>\n",
       "    </tr>\n",
       "  </tbody>\n",
       "</table>\n",
       "</div>"
      ],
      "text/plain": [
       "    mpg  cyl    wt region                    model\n",
       "0  27.2    4  3190    eur              peugeot 504\n",
       "1  32.8    4  1985   asia         mazda glc deluxe\n",
       "2  18.1    6  3410    usa          amc concord d/l\n",
       "3  17.5    8  4080    usa          dodge magnum xe\n",
       "4  25.4    5  3530    eur       mercedes benz 300d\n",
       "5  31.0    4  1773   asia      toyota corolla 1200\n",
       "6  27.4    4  2670    usa            amc spirit dl\n",
       "7  39.1    4  1755   asia           toyota starlet\n",
       "8  34.3    4  2188    eur                audi 4000\n",
       "9  30.0    4  2155    usa  buick opel isuzu deluxe"
      ]
     },
     "execution_count": 9,
     "metadata": {},
     "output_type": "execute_result"
    }
   ],
   "source": [
    "auto = pd.read_csv('auto_mpg.txt', sep=\"\\t\")\n",
    "auto.head(10)"
   ]
  },
  {
   "cell_type": "code",
   "execution_count": 10,
   "id": "b463860e",
   "metadata": {},
   "outputs": [
    {
     "name": "stdout",
     "output_type": "stream",
     "text": [
      "(398, 5)\n"
     ]
    }
   ],
   "source": [
    "print(auto.shape)"
   ]
  },
  {
   "cell_type": "code",
   "execution_count": 11,
   "id": "b492f1d7",
   "metadata": {},
   "outputs": [
    {
     "data": {
      "text/plain": [
       "mpg      23.514573\n",
       "cyl       5.454774\n",
       "wt     2970.424623\n",
       "dtype: float64"
      ]
     },
     "execution_count": 11,
     "metadata": {},
     "output_type": "execute_result"
    }
   ],
   "source": [
    "auto.mean(numeric_only = True)"
   ]
  },
  {
   "cell_type": "markdown",
   "id": "ca8d18d1",
   "metadata": {},
   "source": [
    "## Problem 5: Regional Counts and Means"
   ]
  },
  {
   "cell_type": "code",
   "execution_count": 12,
   "id": "39f84e8c",
   "metadata": {},
   "outputs": [
    {
     "name": "stdout",
     "output_type": "stream",
     "text": [
      "['asia' 'eur' 'usa']\n"
     ]
    }
   ],
   "source": [
    "regions = np.unique(auto['region'])\n",
    "print(regions)"
   ]
  },
  {
   "cell_type": "code",
   "execution_count": 13,
   "id": "dd7577c0",
   "metadata": {},
   "outputs": [
    {
     "name": "stdout",
     "output_type": "stream",
     "text": [
      "\n",
      "Number of cars manufactured in Asia:   79\n",
      "Number of cars manufactured in Europe: 70\n",
      "Number of cars manufactured in USA:    249\n",
      "\n"
     ]
    }
   ],
   "source": [
    "asia_auto = auto[auto['region'] == regions[0]]\n",
    "eur_auto = auto[auto['region'] == regions[1]]\n",
    "usa_auto = auto[auto['region'] == regions[2]]\n",
    "\n",
    "print(f'''\n",
    "Number of cars manufactured in Asia:   {len(asia_auto)}\n",
    "Number of cars manufactured in Europe: {len(eur_auto)}\n",
    "Number of cars manufactured in USA:    {len(usa_auto)}\n",
    "''')"
   ]
  },
  {
   "cell_type": "code",
   "execution_count": 14,
   "id": "a68ef262",
   "metadata": {},
   "outputs": [
    {
     "data": {
      "text/html": [
       "<div>\n",
       "<style scoped>\n",
       "    .dataframe tbody tr th:only-of-type {\n",
       "        vertical-align: middle;\n",
       "    }\n",
       "\n",
       "    .dataframe tbody tr th {\n",
       "        vertical-align: top;\n",
       "    }\n",
       "\n",
       "    .dataframe thead th {\n",
       "        text-align: right;\n",
       "    }\n",
       "</style>\n",
       "<table border=\"1\" class=\"dataframe\">\n",
       "  <thead>\n",
       "    <tr style=\"text-align: right;\">\n",
       "      <th></th>\n",
       "      <th>mpg</th>\n",
       "      <th>cyl</th>\n",
       "      <th>wt</th>\n",
       "    </tr>\n",
       "  </thead>\n",
       "  <tbody>\n",
       "    <tr>\n",
       "      <th>asia</th>\n",
       "      <td>30.450633</td>\n",
       "      <td>4.101266</td>\n",
       "      <td>2221.227848</td>\n",
       "    </tr>\n",
       "    <tr>\n",
       "      <th>eur</th>\n",
       "      <td>27.891429</td>\n",
       "      <td>4.157143</td>\n",
       "      <td>2423.300000</td>\n",
       "    </tr>\n",
       "    <tr>\n",
       "      <th>usa</th>\n",
       "      <td>20.083534</td>\n",
       "      <td>6.248996</td>\n",
       "      <td>3361.931727</td>\n",
       "    </tr>\n",
       "  </tbody>\n",
       "</table>\n",
       "</div>"
      ],
      "text/plain": [
       "            mpg       cyl           wt\n",
       "asia  30.450633  4.101266  2221.227848\n",
       "eur   27.891429  4.157143  2423.300000\n",
       "usa   20.083534  6.248996  3361.931727"
      ]
     },
     "execution_count": 14,
     "metadata": {},
     "output_type": "execute_result"
    }
   ],
   "source": [
    "asia_auto_array = asia_auto.mean(numeric_only = True)\n",
    "eur_auto_array = eur_auto.mean(numeric_only = True)\n",
    "usa_auto_array = usa_auto.mean(numeric_only = True)\n",
    "\n",
    "asia_auto_means = asia_auto_array.to_numpy()\n",
    "eur_auto_means = eur_auto_array.to_numpy()\n",
    "usa_auto_means = usa_auto_array.to_numpy()\n",
    "region_means = np.vstack((asia_auto_means, eur_auto_means, usa_auto_means))\n",
    "\n",
    "mean_df = pd.DataFrame(region_means, index = regions, columns = ['mpg','cyl','wt'])\n",
    "mean_df"
   ]
  },
  {
   "cell_type": "markdown",
   "id": "0b7e54a1",
   "metadata": {},
   "source": [
    "## Problem 6: Average Weight and MPG by Region"
   ]
  },
  {
   "cell_type": "code",
   "execution_count": 15,
   "id": "4c7efd25",
   "metadata": {},
   "outputs": [
    {
     "data": {
      "image/png": "[encoded data removed]",
      "text/plain": [
       "<Figure size 576x288 with 2 Axes>"
      ]
     },
     "metadata": {
      "needs_background": "light"
     },
     "output_type": "display_data"
    }
   ],
   "source": [
    "colors1 = ['red','green','blue']\n",
    "\n",
    "mean_df['mpg']\n",
    "\n",
    "plt.figure(figsize=[8,4])\n",
    "plt.subplot(1, 2, 1)\n",
    "plt.bar(x = regions, height=mean_df['mpg'], edgecolor='black', color=colors1)\n",
    "plt.title('Average MPG by Region')\n",
    "plt.xlabel('Region')\n",
    "plt.ylabel('Average MPG')\n",
    "\n",
    "plt.subplot(1, 2, 2)\n",
    "plt.bar(x = regions,height=mean_df['wt'], edgecolor='black',color=colors1)\n",
    "plt.title('Average Weight by Region')\n",
    "plt.xlabel('Region')\n",
    "plt.ylabel('Average Weight in Pounds')\n",
    "\n",
    "plt.tight_layout()\n",
    "plt.show()"
   ]
  },
  {
   "cell_type": "markdown",
   "id": "6472c91d",
   "metadata": {},
   "source": [
    "## Problem 7: Relationship between Weight and Miles Per Gallon"
   ]
  },
  {
   "cell_type": "code",
   "execution_count": 16,
   "id": "99c66574",
   "metadata": {},
   "outputs": [
    {
     "data": {
      "image/png": "[encoded data removed]",
      "text/plain": [
       "<Figure size 864x288 with 3 Axes>"
      ]
     },
     "metadata": {
      "needs_background": "light"
     },
     "output_type": "display_data"
    }
   ],
   "source": [
    "plt.figure(figsize=[12,4])\n",
    "for index in range(len(regions)):\n",
    "    \n",
    "    plt.subplot(1, 3, index + 1)\n",
    "    \n",
    "    wt = (auto[auto['region'] == regions[index]]['wt']).to_numpy()\n",
    "    mpg = (auto[auto['region'] == regions[index]]['mpg']).to_numpy()\n",
    "    \n",
    "    plt.scatter(wt, mpg, edgecolors = 'black', c = colors1[index], alpha = 0.8)\n",
    "    \n",
    "    plt.xlim([1200, 5000])\n",
    "    plt.ylim([0, 50])\n",
    "    plt.xlabel('Weight in Pounds')\n",
    "    plt.ylabel('Miles Per Gallon')\n",
    "    plt.title(f'Weight vs MPG ({regions[index].title()})')\n",
    "    \n",
    "plt.tight_layout()\n",
    "plt.show()"
   ]
  },
  {
   "cell_type": "markdown",
   "id": "cca5d631",
   "metadata": {},
   "source": [
    "## Problem 8: Cylinder Distribution by Region"
   ]
  },
  {
   "cell_type": "code",
   "execution_count": 17,
   "id": "85652b04",
   "metadata": {},
   "outputs": [
    {
     "name": "stdout",
     "output_type": "stream",
     "text": [
      "[4 6 8 5 3]\n"
     ]
    }
   ],
   "source": [
    "cyl_values = auto['cyl'].unique()\n",
    "print(cyl_values)"
   ]
  },
  {
   "cell_type": "code",
   "execution_count": 18,
   "id": "4fcbbcf0",
   "metadata": {},
   "outputs": [
    {
     "data": {
      "text/html": [
       "<div>\n",
       "<style scoped>\n",
       "    .dataframe tbody tr th:only-of-type {\n",
       "        vertical-align: middle;\n",
       "    }\n",
       "\n",
       "    .dataframe tbody tr th {\n",
       "        vertical-align: top;\n",
       "    }\n",
       "\n",
       "    .dataframe thead th {\n",
       "        text-align: right;\n",
       "    }\n",
       "</style>\n",
       "<table border=\"1\" class=\"dataframe\">\n",
       "  <thead>\n",
       "    <tr style=\"text-align: right;\">\n",
       "      <th>region</th>\n",
       "      <th>asia</th>\n",
       "      <th>eur</th>\n",
       "      <th>usa</th>\n",
       "    </tr>\n",
       "    <tr>\n",
       "      <th>cyl</th>\n",
       "      <th></th>\n",
       "      <th></th>\n",
       "      <th></th>\n",
       "    </tr>\n",
       "  </thead>\n",
       "  <tbody>\n",
       "    <tr>\n",
       "      <th>3</th>\n",
       "      <td>4</td>\n",
       "      <td>0</td>\n",
       "      <td>0</td>\n",
       "    </tr>\n",
       "    <tr>\n",
       "      <th>4</th>\n",
       "      <td>69</td>\n",
       "      <td>63</td>\n",
       "      <td>72</td>\n",
       "    </tr>\n",
       "    <tr>\n",
       "      <th>5</th>\n",
       "      <td>0</td>\n",
       "      <td>3</td>\n",
       "      <td>0</td>\n",
       "    </tr>\n",
       "    <tr>\n",
       "      <th>6</th>\n",
       "      <td>6</td>\n",
       "      <td>4</td>\n",
       "      <td>74</td>\n",
       "    </tr>\n",
       "    <tr>\n",
       "      <th>8</th>\n",
       "      <td>0</td>\n",
       "      <td>0</td>\n",
       "      <td>103</td>\n",
       "    </tr>\n",
       "  </tbody>\n",
       "</table>\n",
       "</div>"
      ],
      "text/plain": [
       "region  asia  eur  usa\n",
       "cyl                   \n",
       "3          4    0    0\n",
       "4         69   63   72\n",
       "5          0    3    0\n",
       "6          6    4   74\n",
       "8          0    0  103"
      ]
     },
     "execution_count": 18,
     "metadata": {},
     "output_type": "execute_result"
    }
   ],
   "source": [
    "cyl_counts_by_region = pd.crosstab(auto['cyl'], auto['region'])\n",
    "cyl_counts_by_region"
   ]
  },
  {
   "cell_type": "code",
   "execution_count": 19,
   "id": "a9400cea",
   "metadata": {},
   "outputs": [
    {
     "data": {
      "image/png": "[encoded data removed]",
      "text/plain": [
       "<Figure size 432x288 with 1 Axes>"
      ]
     },
     "metadata": {
      "needs_background": "light"
     },
     "output_type": "display_data"
    }
   ],
   "source": [
    "cyl_props_by_region = cyl_counts_by_region / np.sum(cyl_counts_by_region, axis = 0)\n",
    "\n",
    "bar_bottoms = np.cumsum(cyl_props_by_region) - cyl_props_by_region\n",
    "\n",
    "colors2 = ['plum', 'skyblue', 'gold', 'lightgreen', 'coral']\n",
    "\n",
    "plt.figure(figsize = [6,4])\n",
    "\n",
    "for index in range(len(cyl_values)):\n",
    "    prop_row = cyl_props_by_region.iloc[index].to_numpy()\n",
    "    bottom_row = bar_bottoms.iloc[index].to_numpy()\n",
    "    \n",
    "    plt.bar(regions, prop_row, bottom = bottom_row, edgecolor = 'black', color = colors2[index], label = cyl_props_by_region.index[index])\n",
    "    \n",
    "plt.xlabel('Region')\n",
    "plt.ylabel('Proportion')\n",
    "plt.title('Distribution of Cylinder Numbers by Region')\n",
    "plt.legend(bbox_to_anchor=(1.01,0.7))\n",
    "plt.show()"
   ]
  }
 ],
 "metadata": {
  "kernelspec": {
   "display_name": "Python 3 (ipykernel)",
   "language": "python",
   "name": "python3"
  },
  "language_info": {
   "codemirror_mode": {
    "name": "ipython",
    "version": 3
   },
   "file_extension": ".py",
   "mimetype": "text/x-python",
   "name": "python",
   "nbconvert_exporter": "python",
   "pygments_lexer": "ipython3",
   "version": "3.9.7"
  }
 },
 "nbformat": 4,
 "nbformat_minor": 5
}
